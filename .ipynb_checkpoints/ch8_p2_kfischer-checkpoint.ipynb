{
 "cells": [
  {
   "cell_type": "code",
   "execution_count": 1,
   "metadata": {},
   "outputs": [
    {
     "data": {
      "text/plain": [
       "'\\nFile: ch8_p2_kfischer.py\\n\\n\\n'"
      ]
     },
     "execution_count": 1,
     "metadata": {},
     "output_type": "execute_result"
    }
   ],
   "source": [
    "\"\"\"\n",
    "Author: Kelley Fischer\n",
    "File: ch8_p2_kfischer.py\n",
    "\n",
    "This program converts given Fahrenheit values to Celsius\n",
    "and vice versa. \n",
    "\"\"\""
   ]
  },
  {
   "cell_type": "code",
   "execution_count": 2,
   "metadata": {},
   "outputs": [],
   "source": [
    "from breezypythongui import EasyFrame"
   ]
  },
  {
   "cell_type": "code",
   "execution_count": 6,
   "metadata": {},
   "outputs": [],
   "source": [
    "class TempConvert(EasyFrame):\n",
    "    \n",
    "    def __init__(self):\n",
    "        \n",
    "        EasyFrame.__init__(self, title = \"Fahrenheit/Celsius Converter\")\n",
    "        \n",
    "        # Labels and Input fields\n",
    "        self.addLabel(text = \"Fahrenheit\", row = 0, column = 0, sticky = \"EW\")\n",
    "        self.addLabel(text = \"Celsius\", row = 0, column = 1, sticky = \"EW\")\n",
    "        self.fahrenheit = self.addFloatField(value = 32.0, row = 1, column = 0, precision = 1)\n",
    "        self.celsius = self.addFloatField(value = 0, row = 1, column = 1, precision = 1)\n",
    "        \n",
    "        # Buttons for activating conversions\n",
    "        self.addButton(text = \">>>>\", row = 2, column = 0, command = self.calcCelsius)\n",
    "        self.addButton(text = \"<<<<\", row = 2, column = 1, command = self.calcFahrenheit)\n",
    "        \n",
    "        # Bind keyboad events\n",
    "        self.fahrenheit.bind(\"<Return>\", lambda event: self.calcCelsius())\n",
    "        self.celsius.bind(\"<Return>\", lambda event: self.calcFahrenheit())\n",
    "    \n",
    "    # Converts Fahrenheit to Celsius\n",
    "    def calcCelsius(self):\n",
    "        convertF = (self.fahrenheit.getNumber() - 32)*(5/9)\n",
    "        self.celsius.setNumber(convertF)\n",
    "    \n",
    "    # Converts Celsius to Fahrenheit\n",
    "    def calcFahrenheit(self):\n",
    "        convertC = (self.celsius.getNumber() * 9/5) + 32\n",
    "        self.fahrenheit.setNumber(convertC)"
   ]
  },
  {
   "cell_type": "code",
   "execution_count": 7,
   "metadata": {},
   "outputs": [],
   "source": [
    "def main():\n",
    "    \"\"\"Instantiates and pops up the window.\"\"\"\n",
    "    TempConvert().mainloop()"
   ]
  },
  {
   "cell_type": "code",
   "execution_count": 8,
   "metadata": {},
   "outputs": [],
   "source": [
    "if __name__ == \"__main__\":\n",
    "    main()"
   ]
  }
 ],
 "metadata": {
  "kernelspec": {
   "display_name": "Python 3",
   "language": "python",
   "name": "python3"
  },
  "language_info": {
   "codemirror_mode": {
    "name": "ipython",
    "version": 3
   },
   "file_extension": ".py",
   "mimetype": "text/x-python",
   "name": "python",
   "nbconvert_exporter": "python",
   "pygments_lexer": "ipython3",
   "version": "3.6.8"
  }
 },
 "nbformat": 4,
 "nbformat_minor": 2
}
