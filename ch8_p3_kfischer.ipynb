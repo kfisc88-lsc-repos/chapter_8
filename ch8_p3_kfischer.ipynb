{
 "cells": [
  {
   "cell_type": "code",
   "execution_count": null,
   "metadata": {},
   "outputs": [],
   "source": [
    "\"\"\"\n",
    "Author: Kelley Fischer\n",
    "File: ch8_p3_kfischer.py\n",
    "\"\"\""
   ]
  },
  {
   "cell_type": "code",
   "execution_count": 1,
   "metadata": {},
   "outputs": [],
   "source": [
    "from breezypythongui import EasyFrame\n",
    "import tkinter.filedialog"
   ]
  },
  {
   "cell_type": "code",
   "execution_count": 11,
   "metadata": {},
   "outputs": [],
   "source": [
    "class TextEdit(EasyFrame):\n",
    "    \n",
    "    def __init__(self):\n",
    "        \n",
    "        EasyFrame.__init__(self, \"Text Editor\")\n",
    "        \n",
    "        # Create the menu bar\n",
    "        menuBar = self.addMenuBar(row = 0, column = 0)\n",
    "        \n",
    "        # Create the \"File\" menu option and add menu items\n",
    "        appMenu = menuBar.addMenu(\"File\")\n",
    "        appMenu.addMenuItem(\"New\",  self.newFile)\n",
    "        appMenu.addMenuItem(\"Open\", self.openFile)\n",
    "        appMenu.addMenuItem(\"Save\", self.saveFile)\n",
    "\n",
    "        self.outputArea = self.addTextArea(\"\", row = 1, column = 0, columnspan = 10, width = 80, height = 15, wrap = \"word\")\n",
    "        \n",
    "    # Creates a new text file\n",
    "    def newFile(self):\n",
    "        self.setTitle(\"new document\")\n",
    "        self.outputArea.setText(\"\")\n",
    "    \n",
    "    # Saves the current text file\n",
    "    def saveFile(self):\n",
    "        fileName = tkinter.filedialog.asksaveasfilename(parent = self)\n",
    "    \n",
    "    # Opens the open file dialog to open an existing file\n",
    "    def openFile(self):\n",
    "        \"\"\"Pops up an open file dialog, and if a file is selected displays its \n",
    "        text in the text area and its pathname in the title bar.\"\"\"\n",
    "        fList = [(\"Text files\", \"*.txt\")]\n",
    "        fileName = tkinter.filedialog.askopenfilename(parent = self, filetypes = fList)\n",
    "        \n",
    "        if fileName != \"\":\n",
    "            \n",
    "            file = open(fileName, 'r')\n",
    "            text = file.read()\n",
    "            file.close()\n",
    "            self.outputArea.setText(text)\n",
    "            self.setTitle(fileName)        "
   ]
  },
  {
   "cell_type": "code",
   "execution_count": 12,
   "metadata": {},
   "outputs": [],
   "source": [
    "def main():\n",
    "    \"\"\"Instantiates and pops up the window.\"\"\"\n",
    "    TextEdit().mainloop()"
   ]
  },
  {
   "cell_type": "code",
   "execution_count": 13,
   "metadata": {
    "scrolled": false
   },
   "outputs": [],
   "source": [
    "if __name__ == \"__main__\":\n",
    "    main()"
   ]
  }
 ],
 "metadata": {
  "kernelspec": {
   "display_name": "Python 3",
   "language": "python",
   "name": "python3"
  },
  "language_info": {
   "codemirror_mode": {
    "name": "ipython",
    "version": 3
   },
   "file_extension": ".py",
   "mimetype": "text/x-python",
   "name": "python",
   "nbconvert_exporter": "python",
   "pygments_lexer": "ipython3",
   "version": "3.6.8"
  }
 },
 "nbformat": 4,
 "nbformat_minor": 2
}
