{
 "cells": [
  {
   "cell_type": "code",
   "execution_count": 1,
   "metadata": {},
   "outputs": [
    {
     "data": {
      "text/plain": [
       "'\\nAuthor: Kelley Fischer\\nFile: ch8_p4_kfischer.py\\n\\n\\n'"
      ]
     },
     "execution_count": 1,
     "metadata": {},
     "output_type": "execute_result"
    }
   ],
   "source": [
    "\"\"\"\n",
    "Author: Kelley Fischer\n",
    "File: ch8_p4_kfischer.py\n",
    "\n",
    "A simple image browser that can open .gif files\n",
    "and view them. \n",
    "\"\"\""
   ]
  },
  {
   "cell_type": "code",
   "execution_count": 2,
   "metadata": {},
   "outputs": [],
   "source": [
    "from breezypythongui import EasyFrame\n",
    "import tkinter.filedialog\n",
    "from tkinter import PhotoImage"
   ]
  },
  {
   "cell_type": "code",
   "execution_count": 3,
   "metadata": {},
   "outputs": [],
   "source": [
    "class ImageBrowser(EasyFrame):\n",
    "    \n",
    "    def __init__(self):\n",
    "        \n",
    "        EasyFrame.__init__(self, title = \"Image Browser\")\n",
    "        \n",
    "        # Sets the window size to adjust to the image\n",
    "        self.setResizable(False)\n",
    "        \n",
    "        # Add label and button\n",
    "        self.imageLabel = self.addLabel(text = \"\", row = 0, column = 0, sticky = \"NSEW\")\n",
    "        self.addButton(text = \"Open\", row = 1, column = 0, columnspan = 3, command = self.openFile)\n",
    "        \n",
    "\n",
    "    # Opens the open file dialog to open an existing file\n",
    "    def openFile(self):\n",
    "        \n",
    "        \"\"\"Pops up an open file dialog, and if a file is selected displays its \n",
    "        text in the text area and its pathname in the title bar.\"\"\"\n",
    "        \n",
    "        fList = [(\"GIF files\", \"*.gif\")]\n",
    "        fileName = tkinter.filedialog.askopenfilename(parent = self, filetypes = fList)\n",
    "        \n",
    "        if fileName != \"\":\n",
    "            self.image = PhotoImage(file = fileName)\n",
    "            self.imageLabel[\"image\"] = self.image\n",
    "            self.setTitle(fileName)        "
   ]
  },
  {
   "cell_type": "code",
   "execution_count": 4,
   "metadata": {},
   "outputs": [],
   "source": [
    "def main():\n",
    "    \"\"\"Instantiates and pops up the window.\"\"\"\n",
    "    ImageBrowser().mainloop()"
   ]
  },
  {
   "cell_type": "code",
   "execution_count": 5,
   "metadata": {},
   "outputs": [],
   "source": [
    "if __name__ == \"__main__\":\n",
    "    main()"
   ]
  },
  {
   "cell_type": "code",
   "execution_count": null,
   "metadata": {},
   "outputs": [],
   "source": []
  }
 ],
 "metadata": {
  "kernelspec": {
   "display_name": "Python 3",
   "language": "python",
   "name": "python3"
  },
  "language_info": {
   "codemirror_mode": {
    "name": "ipython",
    "version": 3
   },
   "file_extension": ".py",
   "mimetype": "text/x-python",
   "name": "python",
   "nbconvert_exporter": "python",
   "pygments_lexer": "ipython3",
   "version": "3.6.8"
  }
 },
 "nbformat": 4,
 "nbformat_minor": 2
}
